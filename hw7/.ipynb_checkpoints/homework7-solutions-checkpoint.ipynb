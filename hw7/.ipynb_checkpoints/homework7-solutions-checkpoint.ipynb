{
 "cells": [
  {
   "cell_type": "markdown",
   "id": "733b87f6",
   "metadata": {},
   "source": [
    "# Homework 7 Solutions\n",
    "\n",
    "Computational Physics Fall 2025 "
   ]
  },
  {
   "cell_type": "markdown",
   "id": "a9305723",
   "metadata": {},
   "source": [
    "# Problem 1: LU Solver\n",
    "\n",
    "## Part A"
   ]
  },
  {
   "cell_type": "code",
   "execution_count": 1,
   "id": "f2bf711a",
   "metadata": {},
   "outputs": [
    {
     "data": {
      "text/latex": [
       "$$A=\\begin{pmatrix}\n",
       "  -5. & 2. & 0. & -2. & -3.\\\\\n",
       "  -15. & 7. & 0. & -11. & -5.\\\\\n",
       "  0. & 2. & 1. & -11. & 9.\\\\\n",
       "  -10. & 6. & -4. & -6. & -4.\\\\\n",
       "  -25. & 6. & -3. & 5. & -26.\\\\\n",
       "\\end{pmatrix}$$"
      ],
      "text/plain": [
       "<IPython.core.display.Latex object>"
      ]
     },
     "metadata": {},
     "output_type": "display_data"
    },
    {
     "data": {
      "text/latex": [
       "$$\\text{The solution is }x=\\begin{pmatrix}\n",
       "  -27.5\\\\\n",
       "  28.25\\\\\n",
       "  14.75\\\\\n",
       "  38.25\\\\\n",
       "  38.5\\\\\n",
       "\\end{pmatrix}$$"
      ],
      "text/plain": [
       "<IPython.core.display.Latex object>"
      ]
     },
     "metadata": {},
     "output_type": "display_data"
    }
   ],
   "source": [
    "from numpy import array, transpose                  # For linear algebra stuff\n",
    "from numpy.linalg import solve                      # To solve Ax = b\n",
    "from IPython.display import display, Latex          # For cute prints\n",
    "\n",
    "# ------------------------------------------------------------------------------------- #\n",
    "# For even cuter prints. You can ignore this for the solution\n",
    "# Adapted from: \n",
    "# https://stackoverflow.com/questions/17129290/numpy-2d-and-1d-array-to-latex-bmatrix\n",
    "def show(arr, preamb=\"\"):\n",
    "    if len(arr.shape) > 2:\n",
    "        raise ValueError('bmatrix can at most display two dimensions')\n",
    "    lines   = str(arr).replace('[', '').replace(']', '').splitlines()\n",
    "    rv      = [r'\\begin{pmatrix}']\n",
    "    rv     += ['  ' + ' & '.join(l.split()) + r'\\\\' for l in lines]\n",
    "    rv     += [r'\\end{pmatrix}']\n",
    "    body    = \"$$\"+preamb+'\\n'.join(rv)+\"$$\"\n",
    "\n",
    "    display(Latex(body))\n",
    "# ------------------------------------------------------------------------------------- #\n",
    "\n",
    "# Define the matrices\n",
    "U = array([\n",
    "    [-5., 2., 0.,-2.,-3.],\n",
    "    [ 0., 1., 0.,-5., 4.],\n",
    "    [ 0., 0., 1.,-1., 1.],\n",
    "    [ 0., 0., 0., 4.,-2.],\n",
    "    [ 0., 0., 0., 0., 4.],\n",
    "])\n",
    "L = array([\n",
    "    [ 1., 0., 0., 0., 0.],\n",
    "    [ 3., 1., 0., 0., 0.],\n",
    "    [ 0., 2., 1., 0., 0.],\n",
    "    [ 2., 2.,-4., 1., 0.],\n",
    "    [ 5.,-4.,-3.,-2., 1.],\n",
    "])\n",
    "b = array([ 2.,-3.,-3., 2., 3.])\n",
    "\n",
    "# Calculate A\n",
    "A = L.dot(U)\n",
    "x = solve(A,b)\n",
    "show(A,\"A=\")\n",
    "show(transpose([x]),\"\\\\text{The solution is }x=\")"
   ]
  },
  {
   "cell_type": "markdown",
   "id": "3251c533",
   "metadata": {},
   "source": [
    "## Part B\n",
    "\n",
    "We want to solve LU decomposition this is done by realizing that\n",
    "$$\n",
    "A x = LUx = b,\n",
    "$$\n",
    "and then defining $y = Ux$ and obtaining the equation\n",
    "$$\n",
    "L y = b,\n",
    "$$ \n",
    "which we can solve quickly knowing that $L$ is lower triangular. Then doing the same thing to obtain $x$ but the other way around. Here it is."
   ]
  },
  {
   "cell_type": "code",
   "execution_count": 2,
   "id": "cdc3f192",
   "metadata": {},
   "outputs": [
    {
     "data": {
      "text/latex": [
       "$$\\text{The solution is }x=\\begin{pmatrix}\n",
       "  -27.5\\\\\n",
       "  28.25\\\\\n",
       "  14.75\\\\\n",
       "  38.25\\\\\n",
       "  38.5\\\\\n",
       "\\end{pmatrix}$$"
      ],
      "text/plain": [
       "<IPython.core.display.Latex object>"
      ]
     },
     "metadata": {},
     "output_type": "display_data"
    }
   ],
   "source": [
    "from numpy import zeros_like    # To create an array full of zeros with appropriate dimensions\n",
    "\n",
    "def solve_LU(L:array, U:array, b:array) -> array:\n",
    "    # Create a zero vector with the same dimension as the output vector. \n",
    "    # Since our matrices are NxN, b has the same dimension as y and x. \n",
    "    y = zeros_like(b,dtype=float)\n",
    "    \n",
    "    # Solve for y\n",
    "    for i in range(len(y)):\n",
    "        y[i] = (b[i] - sum(L[i][:i] * y[:i])) / L[i,i]\n",
    "\n",
    "    # Solve for x by doing the same thing backwards\n",
    "    for i in range(len(y)-1,-1,-1):\n",
    "        y[i] = (y[i] - sum(U[i][i+1:] * y[i+1:])) / U[i,i]\n",
    "\n",
    "    return y\n",
    "\n",
    "# Solve the original equation\n",
    "x = solve_LU(L,U,b)\n",
    "show(transpose([x]),r\"\\text{The solution is }x=\")"
   ]
  },
  {
   "cell_type": "markdown",
   "id": "a0062e0e",
   "metadata": {},
   "source": [
    "## Part C\n",
    "To find the inverse of A we really only need to solve them per column. Here is the idea. if we denote the standard basis of $\\mathbb{R}^N$ by $e_i$ then the $i^{\\text{th}}$ column of $A^{-1}$ is given by\n",
    "$$\n",
    "a_i = A^{-1}e_i.\n",
    "$$\n",
    "Therefore, we only need to use our code to solve the equation\n",
    "$$\n",
    "Aa_i = e_i,\n",
    "$$\n",
    "and then assemble our answers into a matrix."
   ]
  },
  {
   "cell_type": "code",
   "execution_count": 3,
   "id": "f4b543e7",
   "metadata": {},
   "outputs": [
    {
     "data": {
      "text/latex": [
       "$$\\text{The inverse is } A^{-1}=\\begin{pmatrix}\n",
       "  -10.15 & 4.1 & -2.25 & -0.3 & -0.35\\\\\n",
       "  10.625 & -3.25 & 0.875 & 0.5 & -0.375\\\\\n",
       "  5.875 & -1.75 & 0.625 & 0. & -0.125\\\\\n",
       "  14.125 & -5.25 & 2.375 & 0.5 & 0.125\\\\\n",
       "  14.25 & -5.5 & 2.75 & 0.5 & 0.25\\\\\n",
       "\\end{pmatrix}$$"
      ],
      "text/plain": [
       "<IPython.core.display.Latex object>"
      ]
     },
     "metadata": {},
     "output_type": "display_data"
    },
    {
     "data": {
      "text/latex": [
       "$$A^{-1}A = \\begin{pmatrix}\n",
       "  1. & 0. & 0. & 0. & 0.\\\\\n",
       "  0. & 1. & 0. & 0. & 0.\\\\\n",
       "  0. & 0. & 1. & 0. & 0.\\\\\n",
       "  0. & 0. & 0. & 1. & 0.\\\\\n",
       "  0. & 0. & 0. & 0. & 1.\\\\\n",
       "\\end{pmatrix}$$"
      ],
      "text/plain": [
       "<IPython.core.display.Latex object>"
      ]
     },
     "metadata": {},
     "output_type": "display_data"
    }
   ],
   "source": [
    "from numpy import eye   # Creates the identity matrix\n",
    "\n",
    "def invert_LU(L:array, U:array) -> array:\n",
    "    # Make sure you're truing to invert a square matrix\n",
    "    assert(L.shape[0] == U.shape[1])\n",
    "\n",
    "    # Obtain the standard basis\n",
    "    N = L.shape[0]\n",
    "    basis = eye(N)\n",
    "\n",
    "    # Get the inverse matrix by solving for each basis\n",
    "    return array([solve_LU(L,U,e) for e in basis]).T\n",
    "\n",
    "# Invert and print\n",
    "A_inv = invert_LU(L,U)\n",
    "show(A_inv,r\"\\text{The inverse is } A^{-1}=\")\n",
    "\n",
    "# Test by multiplying and clamping around machine precision \n",
    "precision = 1e-14                           # Define a precision \n",
    "product   = A_inv.dot(A)                    # Multiply the two\n",
    "product[abs(product) < precision] = 0       # Take small numbers to zero\n",
    "show(product, \"A^{-1}A = \")                 # Print"
   ]
  },
  {
   "cell_type": "markdown",
   "id": "da8288f8",
   "metadata": {},
   "source": [
    "# Problem 2\n",
    "\n",
    "## Part A.a\n",
    "\n",
    "We need to derive the rest of the conservation equations for the rest of the junctions. Remember that if the voltage drop across a resistance $R$ is $v$, then the current is $i = v/R$, however since $R$ is the same for everything, and only have equations of the form $\\sum_k i_k = 0,$ we can simply multiply everything by $R$, effectively setting it to $1$. \n",
    "\n",
    "Now assume each node $i \\in N$, where $N$ is the set of nodes, is connected to a set of nodes $S_i$, then applying the conservation law we obtain that for all $i \\in N$\n",
    "$$\n",
    "|S_i| v_i - \\sum_{k \\in S} v_k = 0.\n",
    "$$ \n",
    "Writing this out explicitly and assuming that we know $V_+$ and the ground node, we have the following matrices.\n",
    "$$ \n",
    "\\begin{align*}\n",
    "C = \n",
    "\\begin{pmatrix}\n",
    "  4 & -1 & -1 & -1\\\\\n",
    " -1 &  3 & -1 &  0\\\\\n",
    " -1 &  0 &  3 & -1\\\\\n",
    " -1 & -1 & -1 &  4\\\\\n",
    "\\end{pmatrix}\n",
    "&& p =\n",
    "\\begin{pmatrix}\n",
    "5 \\\\ 0 \\\\ 5 \\\\ 0\n",
    "\\end{pmatrix}\n",
    "\\end{align*} \n",
    "$$\n",
    "\n",
    "## Part A.b\n",
    "\n",
    "To solve we need to write a gaussian elimination algorithm (with no pivoting yet). The whole point is to row reduce $Cv = p$ by finding the appropriate operator $R$ and then solve the system $RCv = Rp$ using backsubstitution just like in the previous problem."
   ]
  },
  {
   "cell_type": "code",
   "execution_count": 4,
   "id": "d2fb99a2",
   "metadata": {},
   "outputs": [
    {
     "data": {
      "text/latex": [
       "$$\\text{The solution is }v=\\begin{pmatrix}\n",
       "  2.8125\\\\\n",
       "  1.5625\\\\\n",
       "  1.875\\\\\n",
       "  2.8125\\\\\n",
       "\\end{pmatrix}$$"
      ],
      "text/plain": [
       "<IPython.core.display.Latex object>"
      ]
     },
     "metadata": {},
     "output_type": "display_data"
    }
   ],
   "source": [
    "from numpy import copy, outer   # To make copies of matrices in memory, and do outer products\n",
    "def gauss(a:array, b:array) -> array:\n",
    "    # Copy the original matrix\n",
    "    A = copy(a)\n",
    "    B = copy(b)\n",
    "\n",
    "    # Row reduce\n",
    "    for i in range(len(A)):  # For each row\n",
    "        # Subtract the rows\n",
    "        if i > 0:\n",
    "            B[i:] -= outer(A[i:,i-1],B[i-1]).T[0]\n",
    "            A[i:] -= outer(A[i:,i-1],A[i-1])\n",
    "        \n",
    "        # Divide by the diagonal element\n",
    "        B[i] /= A[i,i]\n",
    "        A[i] /= A[i,i]\n",
    "\n",
    "    # Solve for x\n",
    "    x = zeros_like(A[0])\n",
    "\n",
    "    for i in range(len(x)-1,-1,-1):\n",
    "        x[i] = (B[i] - sum(A[i][i+1:] * x[i+1:]))\n",
    "\n",
    "    return x\n",
    "\n",
    "# Define our matrices\n",
    "C = array([\n",
    "    [ 4.,-1.,-1.,-1.],\n",
    "    [-1., 3.,-1., 0.],\n",
    "    [-1., 0., 3.,-1.],\n",
    "    [-1.,-1.,-1., 4.],\n",
    "])\n",
    "p = array([ 5., 0., 0., 5.])\n",
    "\n",
    "# Solve\n",
    "v = gauss(C,p)\n",
    "show(transpose([v]),r\"\\text{The solution is }v=\")"
   ]
  },
  {
   "cell_type": "markdown",
   "id": "fc62cbcb",
   "metadata": {},
   "source": [
    "## Part B.a\n",
    "\n",
    "The proof of the equations is given directly in part A.a. We apply conservation of current at each node. Picking a node at the center, it has 4 connections, and 4 neighbors. Obtaining the equations is just a matter of labeling. \n",
    "\n",
    "## Part B.b\n",
    "\n",
    "Let's implement this"
   ]
  },
  {
   "cell_type": "code",
   "execution_count": 5,
   "id": "b6a57928",
   "metadata": {},
   "outputs": [
    {
     "data": {
      "text/latex": [
       "$$C = \\begin{pmatrix}\n",
       "  3. & -1. & -1. & 0. & 0. & 0. & 0. & 0. & 0. & 0.\\\\\n",
       "  -1. & 4. & -1. & -1. & 0. & 0. & 0. & 0. & 0. & 0.\\\\\n",
       "  -1. & -1. & 4. & -1. & -1. & 0. & 0. & 0. & 0. & 0.\\\\\n",
       "  0. & -1. & -1. & 4. & -1. & -1. & 0. & 0. & 0. & 0.\\\\\n",
       "  0. & 0. & -1. & -1. & 4. & -1. & -1. & 0. & 0. & 0.\\\\\n",
       "  0. & 0. & 0. & -1. & -1. & 4. & -1. & -1. & 0. & 0.\\\\\n",
       "  0. & 0. & 0. & 0. & -1. & -1. & 4. & -1. & -1. & 0.\\\\\n",
       "  0. & 0. & 0. & 0. & 0. & -1. & -1. & 4. & -1. & -1.\\\\\n",
       "  0. & 0. & 0. & 0. & 0. & 0. & -1. & -1. & 4. & -1.\\\\\n",
       "  0. & 0. & 0. & 0. & 0. & 0. & 0. & -1. & -1. & 3.\\\\\n",
       "\\end{pmatrix}$$"
      ],
      "text/plain": [
       "<IPython.core.display.Latex object>"
      ]
     },
     "metadata": {},
     "output_type": "display_data"
    }
   ],
   "source": [
    "from numpy import zeros                     # To create zeros of a matrix\n",
    "\n",
    "# Define the matrix\n",
    "def get_circuit_matrix(N:int = 6, V:float = 5) -> array:\n",
    "    A = zeros((N,N))\n",
    "\n",
    "    # Set up the initial conditions\n",
    "    A[  0,  :3] = [ 3,-1,-1]\n",
    "    A[N-1,-3: ] = [-1,-1, 3]\n",
    "    A[  1,  :4] = [-1, 4,-1,-1]\n",
    "    A[N-2,-4: ] = [-1,-1, 4,-1]\n",
    "\n",
    "    # Set up the rest of the matrix\n",
    "    for i in range(2,N-2):\n",
    "        A[i,i-2:i+3] = [-1,-1, 4,-1,-1]\n",
    "\n",
    "    # Find the other vector\n",
    "    v = zeros(N)\n",
    "    v[[0,1]] = V\n",
    "\n",
    "    return A,v\n",
    "\n",
    "# Get the matrix and vector\n",
    "C,p = get_circuit_matrix(6)\n",
    "\n",
    "# And the actual matrix\n",
    "show(C,\"C = \")"
   ]
  },
  {
   "cell_type": "markdown",
   "id": "234c4a7e",
   "metadata": {},
   "source": [
    "To solve we will do a small optimization in our gauss elimination. Since most of the cells are zero, there is no point in going through all of them. So we will only do operations in the 7x7 window like so."
   ]
  },
  {
   "cell_type": "code",
   "execution_count": 6,
   "id": "f2ed9a1f",
   "metadata": {},
   "outputs": [
    {
     "data": {
      "text/latex": [
       "$$\\text{The solution is }v=\\begin{pmatrix}\n",
       "  4.12573674\\\\\n",
       "  3.9194499\\\\\n",
       "  3.45776031\\\\\n",
       "  3.09430255\\\\\n",
       "  2.69155206\\\\\n",
       "  2.30844794\\\\\n",
       "  1.90569745\\\\\n",
       "  1.54223969\\\\\n",
       "  1.0805501\\\\\n",
       "  0.87426326\\\\\n",
       "\\end{pmatrix}$$"
      ],
      "text/plain": [
       "<IPython.core.display.Latex object>"
      ]
     },
     "metadata": {},
     "output_type": "display_data"
    }
   ],
   "source": [
    "def gauss_band(a:array, b:array, band:int = 2) -> array:\n",
    "    # Copy the original matrix\n",
    "    A = copy(a)\n",
    "    B = copy(b)\n",
    "\n",
    "    # Row reduce\n",
    "    for i in range(len(A)):  # For each row\n",
    "        # The index of the swuare to look at\n",
    "        k = min(i+band+1,len(A))\n",
    "\n",
    "        # Subtract the rows\n",
    "        if i > 0:\n",
    "            B[i:k] -= outer(A[i:k,i-1],B[i-1]).T[0]\n",
    "            A[i:k,max(i-band,0):k] -= outer(A[i:k,i-1],A[i-1,max(i-band,0):k])\n",
    "        \n",
    "        # Divide by the diagonal element\n",
    "        B[i] /= A[i,i]\n",
    "        A[i,max(i-band,0):k] /= A[i,i]\n",
    "\n",
    "    # Solve for x\n",
    "    x = zeros_like(A[0])\n",
    "\n",
    "    for i in range(len(x)-1,-1,-1):\n",
    "        x[i] = (B[i] - sum(A[i][i+1:k] * x[i+1:k]))\n",
    "\n",
    "    return x\n",
    "\n",
    "# Solve\n",
    "v = gauss_band(C,p)\n",
    "show(transpose([v]),r\"\\text{The solution is }v=\")"
   ]
  },
  {
   "cell_type": "markdown",
   "id": "34248e59",
   "metadata": {},
   "source": [
    "## Part B.c\n",
    "\n",
    "With our little optimization this should execute much faster because of the sparcity of the matrix."
   ]
  },
  {
   "cell_type": "code",
   "execution_count": 7,
   "id": "01cecadb",
   "metadata": {},
   "outputs": [
    {
     "name": "stdout",
     "output_type": "stream",
     "text": [
      "It took 3.84 seconds to invert\n",
      "Distance is 0.0\n"
     ]
    }
   ],
   "source": [
    "from time import time                                   # For measuring execution speed\n",
    "\n",
    "# Get the largest matrix\n",
    "C,p = get_circuit_matrix(10000)\n",
    "\n",
    "# Solve\n",
    "start = time()\n",
    "v = gauss_band(C,p)\n",
    "print(\"It took %.2f seconds to invert\"%(time() - start))\n",
    "\n",
    "# Check solution\n",
    "precision  = 1e-14                                      # Define a precision\n",
    "difference = C.dot(v)-p                                 # Difference between our output and p\n",
    "difference[abs(difference) < precision] = 0             # Take small numbers to zero\n",
    "print(f\"Distance is {difference.dot(difference)}\")      # Print the answer"
   ]
  }
 ],
 "metadata": {
  "kernelspec": {
   "display_name": "Python 3 (ipykernel)",
   "language": "python",
   "name": "python3"
  },
  "language_info": {
   "codemirror_mode": {
    "name": "ipython",
    "version": 3
   },
   "file_extension": ".py",
   "mimetype": "text/x-python",
   "name": "python",
   "nbconvert_exporter": "python",
   "pygments_lexer": "ipython3",
   "version": "3.13.7"
  }
 },
 "nbformat": 4,
 "nbformat_minor": 5
}
